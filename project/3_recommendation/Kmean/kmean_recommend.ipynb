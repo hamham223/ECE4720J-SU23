{
 "metadata": {
  "language_info": {
   "codemirror_mode": {
    "name": "ipython",
    "version": 3
   },
   "file_extension": ".py",
   "mimetype": "text/x-python",
   "name": "python",
   "nbconvert_exporter": "python",
   "pygments_lexer": "ipython3",
   "version": "3.9.7-final"
  },
  "orig_nbformat": 2,
  "kernelspec": {
   "name": "python3",
   "display_name": "Python 3 (ipykernel)",
   "language": "python"
  }
 },
 "nbformat": 4,
 "nbformat_minor": 2,
 "cells": [
  {
   "cell_type": "code",
   "execution_count": 1,
   "metadata": {},
   "outputs": [],
   "source": [
    "import fastavro\n",
    "import pandas as pd\n",
    "from sklearn.cluster import KMeans\n",
    "import numpy as np\n",
    "import seaborn as sns"
   ]
  },
  {
   "cell_type": "code",
   "execution_count": 2,
   "metadata": {},
   "outputs": [],
   "source": [
    "avro_file = 'data/easyNormalized.avro'\n",
    "\n",
    "with open(avro_file, 'rb') as f:\n",
    "    avro_data = list(fastavro.reader(f))\n",
    "\n",
    "df = pd.DataFrame.from_records(avro_data)"
   ]
  },
  {
   "cell_type": "code",
   "execution_count": 3,
   "metadata": {},
   "outputs": [],
   "source": [
    "df_selected = df.loc[:,['danceability', 'duration', 'end_of_fade_in', 'loudness', 'tempo',\n",
    "       'hotness','year', 'time_signature']]"
   ]
  },
  {
   "source": [
    "# K-mean"
   ],
   "cell_type": "markdown",
   "metadata": {}
  },
  {
   "source": [
    "## Model training"
   ],
   "cell_type": "markdown",
   "metadata": {}
  },
  {
   "cell_type": "code",
   "execution_count": 4,
   "metadata": {},
   "outputs": [],
   "source": [
    "k = 100  # Number of clusters\n",
    "\n",
    "kmeans = KMeans(n_clusters=k)\n",
    "kmeans.fit(df_selected)\n",
    "\n",
    "cluster_centers = kmeans.cluster_centers_\n",
    "\n",
    "labeled_df = df.copy()\n",
    "labeled_df['Cluster'] = kmeans.labels_"
   ]
  },
  {
   "source": [
    "## Get the most k related center"
   ],
   "cell_type": "markdown",
   "metadata": {}
  },
  {
   "cell_type": "code",
   "execution_count": 116,
   "metadata": {},
   "outputs": [],
   "source": [
    "track_id = b\"TRAXLZU12903D05F94\""
   ]
  },
  {
   "cell_type": "code",
   "execution_count": 109,
   "metadata": {},
   "outputs": [],
   "source": [
    "def getKMostRelatedCenter(track_id, labeled_df, cluster_centers, k=3)-> list:\n",
    "    \"\"\"\n",
    "    Return the list of k most close centers\n",
    "\n",
    "    Args: \n",
    "        track id, labeled_df, cluster_centers, k\n",
    "    \n",
    "    Returns:\n",
    "        a list\n",
    "    \"\"\"\n",
    "\n",
    "    song = labeled_df[labeled_df[\"track_id\"] == track_id]\n",
    "    song = song.loc[:,['danceability', 'duration', 'end_of_fade_in', 'loudness', 'tempo',\n",
    "       'hotness','year', 'time_signature']].to_numpy()\n",
    "    dis = []\n",
    "    for center in cluster_centers:\n",
    "        dis.append(np.dot(song, center) / (np.linalg.norm(song) * np.linalg.norm(center)))\n",
    "    \n",
    "    sorted_np = np.argsort(np.array(dis), axis=0)[:,0] < k\n",
    "    index = range(0, np.shape(cluster_centers)[0])\n",
    "\n",
    "    cluster_centers_withindex = np.hstack((cluster_centers, np.array(index).reshape(-1, 1)))\n",
    "    selected_centers = cluster_centers_withindex[sorted_np][:, -1]\n",
    "\n",
    "    return list(selected_centers)"
   ]
  },
  {
   "cell_type": "code",
   "execution_count": 110,
   "metadata": {},
   "outputs": [],
   "source": [
    "# select the n most related centers\n",
    "selected_center_num = 10\n",
    "\n",
    "related_centers = getKMostRelatedCenter(b\"TRAXLZU12903D05F94\", labeled_df, cluster_centers, selected_center_num)"
   ]
  },
  {
   "cell_type": "code",
   "execution_count": 111,
   "metadata": {},
   "outputs": [],
   "source": [
    "df_related = labeled_df[labeled_df[\"Cluster\"].isin(related_centers)]"
   ]
  },
  {
   "cell_type": "code",
   "execution_count": 112,
   "metadata": {},
   "outputs": [],
   "source": [
    "features_numpy = df_related.loc[:,['danceability', 'duration', 'end_of_fade_in', 'loudness', 'tempo',\n",
    "       'hotness','year', 'time_signature']].to_numpy()\n",
    "\n",
    "song = labeled_df[labeled_df[\"track_id\"] == b\"TRAXLZU12903D05F94\"]\n",
    "song_numpy = song.loc[:,['danceability', 'duration', 'end_of_fade_in', 'loudness', 'tempo',\n",
    "       'hotness','year', 'time_signature']].to_numpy()\n",
    "\n",
    "song_numpy_duplicate = np.tile(song_numpy, (features_numpy.shape[0], 1))\n",
    "cos_numpy = np.transpose(np.dot(features_numpy, np.transpose(song_numpy))) / np.transpose(np.linalg.norm(features_numpy, axis=1)) / np.transpose(np.linalg.norm(song_numpy_duplicate, axis=1))\n",
    "cos_numpy = np.transpose(cos_numpy)\n",
    "\n",
    "df_related[\"Cos_correlation_factor\"] = cos_numpy\n"
   ]
  },
  {
   "cell_type": "code",
   "execution_count": 115,
   "metadata": {},
   "outputs": [
    {
     "output_type": "execute_result",
     "data": {
      "text/plain": [
       "                danceability  duration  end_of_fade_in  loudness     tempo  \\\n",
       "Cluster                                                                      \n",
       "24      294093           0.0  0.056866        0.000227  0.632392  0.283683   \n",
       "26      82820            0.0  0.080952        0.000162  0.789091  0.446416   \n",
       "37      797796           0.0  0.001601        0.000104  0.687228  0.527149   \n",
       "41      167759           0.0  0.082165        0.001925  0.650858  0.293377   \n",
       "65      725045           0.0  0.020634        0.000320  0.483263  0.271223   \n",
       "66      481439           0.0  0.063038        0.000143  0.646009  0.266219   \n",
       "69      919543           0.0  0.050875        0.000000  0.766209  0.373787   \n",
       "78      668626           0.0  0.051933        0.000332  0.557940  0.258997   \n",
       "85      1286             0.0  0.064803        0.002439  0.864055  0.536194   \n",
       "91      968645           0.0  0.074289        0.000341  0.692940  0.482617   \n",
       "\n",
       "                 hotness                song_id               track_id  \\\n",
       "Cluster                                                                  \n",
       "24      294093  0.669305  b'SOFSFRQ12A8C140A14'  b'TRHQBBE128F42B15CE'   \n",
       "26      82820   0.157274  b'SOWVYOI12A8C1392C2'  b'TRCDRFH128F42779B7'   \n",
       "37      797796  0.542865  b'SODHWOU12AC9DCB042'  b'TRUSVCS128F92E7941'   \n",
       "41      167759  0.365144  b'SOUMBUR12A670216F0'  b'TREITVF128E0786E89'   \n",
       "65      725045  0.556969  b'SOIXSDM12A8C13573A'  b'TRSVDUX128F426F39F'   \n",
       "66      481439  0.531722  b'SOBNRBJ12A8C13C78F'  b'TRMMTKC128F42821B7'   \n",
       "69      919543  0.544001  b'SOLGCQG12A8C13CC94'  b'TRXXMYZ128F427788E'   \n",
       "78      668626  0.594370  b'SOPTVNF12A6D4F6327'  b'TRRIXCH128EF35CC91'   \n",
       "85      1286    0.550624  b'SORPJVW12AB01866BA'  b'TRAAVMC128F932F388'   \n",
       "91      968645  0.773615  b'SORIVNZ12A8AE48994'  b'TRZESLM128F4237EE6'   \n",
       "\n",
       "                album_id      year                               title  \\\n",
       "Cluster                                                                  \n",
       "24      294093    238334  0.415730                   b'Caress Me Baby'   \n",
       "26      82820     158796  0.739710  b'\\xc3\\x89\\xc3\\xa9n Nacht Met Jou'   \n",
       "37      797796    434456  0.692023                         b'Outbound'   \n",
       "41      167759      8912  0.730337               b'Maybe It Was Magic'   \n",
       "65      725045     91413  0.322092                 b'Marcia Disperata'   \n",
       "66      481439    217657  0.606505  b\"Giz Starts Buggin' (LP Version)\"   \n",
       "69      919543    251359  0.743123                      b'Marcha Real'   \n",
       "78      668626     80509  0.529575             b'Los llantos del alba'   \n",
       "85      1286      505526  0.831545                    b'World Premier'   \n",
       "91      968645    185020  0.270922                    b'Sto Piangendo'   \n",
       "\n",
       "                time_signature  Cluster  Cos_correlation_factor  \n",
       "Cluster                                                          \n",
       "24      294093        0.333333       24                0.992420  \n",
       "26      82820         0.500000       26                0.884449  \n",
       "37      797796        0.211311       37                0.957317  \n",
       "41      167759        0.333333       41                0.954277  \n",
       "65      725045        0.000000       65                0.932654  \n",
       "66      481439        0.500000       66                0.987778  \n",
       "69      919543        0.000000       69                0.925604  \n",
       "78      668626        0.333333       78                0.999636  \n",
       "85      1286          0.500000       85                0.968891  \n",
       "91      968645        0.500000       91                0.951392  "
      ],
      "text/html": "<div>\n<style scoped>\n    .dataframe tbody tr th:only-of-type {\n        vertical-align: middle;\n    }\n\n    .dataframe tbody tr th {\n        vertical-align: top;\n    }\n\n    .dataframe thead th {\n        text-align: right;\n    }\n</style>\n<table border=\"1\" class=\"dataframe\">\n  <thead>\n    <tr style=\"text-align: right;\">\n      <th></th>\n      <th></th>\n      <th>danceability</th>\n      <th>duration</th>\n      <th>end_of_fade_in</th>\n      <th>loudness</th>\n      <th>tempo</th>\n      <th>hotness</th>\n      <th>song_id</th>\n      <th>track_id</th>\n      <th>album_id</th>\n      <th>year</th>\n      <th>title</th>\n      <th>time_signature</th>\n      <th>Cluster</th>\n      <th>Cos_correlation_factor</th>\n    </tr>\n    <tr>\n      <th>Cluster</th>\n      <th></th>\n      <th></th>\n      <th></th>\n      <th></th>\n      <th></th>\n      <th></th>\n      <th></th>\n      <th></th>\n      <th></th>\n      <th></th>\n      <th></th>\n      <th></th>\n      <th></th>\n      <th></th>\n      <th></th>\n    </tr>\n  </thead>\n  <tbody>\n    <tr>\n      <th>24</th>\n      <th>294093</th>\n      <td>0.0</td>\n      <td>0.056866</td>\n      <td>0.000227</td>\n      <td>0.632392</td>\n      <td>0.283683</td>\n      <td>0.669305</td>\n      <td>b'SOFSFRQ12A8C140A14'</td>\n      <td>b'TRHQBBE128F42B15CE'</td>\n      <td>238334</td>\n      <td>0.415730</td>\n      <td>b'Caress Me Baby'</td>\n      <td>0.333333</td>\n      <td>24</td>\n      <td>0.992420</td>\n    </tr>\n    <tr>\n      <th>26</th>\n      <th>82820</th>\n      <td>0.0</td>\n      <td>0.080952</td>\n      <td>0.000162</td>\n      <td>0.789091</td>\n      <td>0.446416</td>\n      <td>0.157274</td>\n      <td>b'SOWVYOI12A8C1392C2'</td>\n      <td>b'TRCDRFH128F42779B7'</td>\n      <td>158796</td>\n      <td>0.739710</td>\n      <td>b'\\xc3\\x89\\xc3\\xa9n Nacht Met Jou'</td>\n      <td>0.500000</td>\n      <td>26</td>\n      <td>0.884449</td>\n    </tr>\n    <tr>\n      <th>37</th>\n      <th>797796</th>\n      <td>0.0</td>\n      <td>0.001601</td>\n      <td>0.000104</td>\n      <td>0.687228</td>\n      <td>0.527149</td>\n      <td>0.542865</td>\n      <td>b'SODHWOU12AC9DCB042'</td>\n      <td>b'TRUSVCS128F92E7941'</td>\n      <td>434456</td>\n      <td>0.692023</td>\n      <td>b'Outbound'</td>\n      <td>0.211311</td>\n      <td>37</td>\n      <td>0.957317</td>\n    </tr>\n    <tr>\n      <th>41</th>\n      <th>167759</th>\n      <td>0.0</td>\n      <td>0.082165</td>\n      <td>0.001925</td>\n      <td>0.650858</td>\n      <td>0.293377</td>\n      <td>0.365144</td>\n      <td>b'SOUMBUR12A670216F0'</td>\n      <td>b'TREITVF128E0786E89'</td>\n      <td>8912</td>\n      <td>0.730337</td>\n      <td>b'Maybe It Was Magic'</td>\n      <td>0.333333</td>\n      <td>41</td>\n      <td>0.954277</td>\n    </tr>\n    <tr>\n      <th>65</th>\n      <th>725045</th>\n      <td>0.0</td>\n      <td>0.020634</td>\n      <td>0.000320</td>\n      <td>0.483263</td>\n      <td>0.271223</td>\n      <td>0.556969</td>\n      <td>b'SOIXSDM12A8C13573A'</td>\n      <td>b'TRSVDUX128F426F39F'</td>\n      <td>91413</td>\n      <td>0.322092</td>\n      <td>b'Marcia Disperata'</td>\n      <td>0.000000</td>\n      <td>65</td>\n      <td>0.932654</td>\n    </tr>\n    <tr>\n      <th>66</th>\n      <th>481439</th>\n      <td>0.0</td>\n      <td>0.063038</td>\n      <td>0.000143</td>\n      <td>0.646009</td>\n      <td>0.266219</td>\n      <td>0.531722</td>\n      <td>b'SOBNRBJ12A8C13C78F'</td>\n      <td>b'TRMMTKC128F42821B7'</td>\n      <td>217657</td>\n      <td>0.606505</td>\n      <td>b\"Giz Starts Buggin' (LP Version)\"</td>\n      <td>0.500000</td>\n      <td>66</td>\n      <td>0.987778</td>\n    </tr>\n    <tr>\n      <th>69</th>\n      <th>919543</th>\n      <td>0.0</td>\n      <td>0.050875</td>\n      <td>0.000000</td>\n      <td>0.766209</td>\n      <td>0.373787</td>\n      <td>0.544001</td>\n      <td>b'SOLGCQG12A8C13CC94'</td>\n      <td>b'TRXXMYZ128F427788E'</td>\n      <td>251359</td>\n      <td>0.743123</td>\n      <td>b'Marcha Real'</td>\n      <td>0.000000</td>\n      <td>69</td>\n      <td>0.925604</td>\n    </tr>\n    <tr>\n      <th>78</th>\n      <th>668626</th>\n      <td>0.0</td>\n      <td>0.051933</td>\n      <td>0.000332</td>\n      <td>0.557940</td>\n      <td>0.258997</td>\n      <td>0.594370</td>\n      <td>b'SOPTVNF12A6D4F6327'</td>\n      <td>b'TRRIXCH128EF35CC91'</td>\n      <td>80509</td>\n      <td>0.529575</td>\n      <td>b'Los llantos del alba'</td>\n      <td>0.333333</td>\n      <td>78</td>\n      <td>0.999636</td>\n    </tr>\n    <tr>\n      <th>85</th>\n      <th>1286</th>\n      <td>0.0</td>\n      <td>0.064803</td>\n      <td>0.002439</td>\n      <td>0.864055</td>\n      <td>0.536194</td>\n      <td>0.550624</td>\n      <td>b'SORPJVW12AB01866BA'</td>\n      <td>b'TRAAVMC128F932F388'</td>\n      <td>505526</td>\n      <td>0.831545</td>\n      <td>b'World Premier'</td>\n      <td>0.500000</td>\n      <td>85</td>\n      <td>0.968891</td>\n    </tr>\n    <tr>\n      <th>91</th>\n      <th>968645</th>\n      <td>0.0</td>\n      <td>0.074289</td>\n      <td>0.000341</td>\n      <td>0.692940</td>\n      <td>0.482617</td>\n      <td>0.773615</td>\n      <td>b'SORIVNZ12A8AE48994'</td>\n      <td>b'TRZESLM128F4237EE6'</td>\n      <td>185020</td>\n      <td>0.270922</td>\n      <td>b'Sto Piangendo'</td>\n      <td>0.500000</td>\n      <td>91</td>\n      <td>0.951392</td>\n    </tr>\n  </tbody>\n</table>\n</div>"
     },
     "metadata": {},
     "execution_count": 115
    }
   ],
   "source": [
    "def selected_n_most_related_in_groupByDataFrame(df : pd.DataFrame):\n",
    "    # default select 10 songs\n",
    "    n = 1\n",
    "    return (df.sort_values(by= \"Cos_correlation_factor\", ascending=False).iloc[:n, :])\n",
    "\n",
    "df_related.groupby(by = \"Cluster\").apply(selected_n_most_related_in_groupByDataFrame)\n",
    "    "
   ]
  },
  {
   "cell_type": "code",
   "execution_count": 119,
   "metadata": {},
   "outputs": [
    {
     "output_type": "execute_result",
     "data": {
      "text/plain": [
       "       danceability  duration  end_of_fade_in  loudness     tempo   hotness  \\\n",
       "35330           0.0  0.069658        0.000119    0.8069  0.359387  0.864249   \n",
       "\n",
       "                     song_id               track_id  album_id      year  \\\n",
       "35330  b'SOCWJDB12A58A776AF'  b'TRAXLZU12903D05F94'    786795  0.730337   \n",
       "\n",
       "                            title  time_signature  Cluster  \n",
       "35330  b'Never Gonna Give You Up'             0.5       46  "
      ],
      "text/html": "<div>\n<style scoped>\n    .dataframe tbody tr th:only-of-type {\n        vertical-align: middle;\n    }\n\n    .dataframe tbody tr th {\n        vertical-align: top;\n    }\n\n    .dataframe thead th {\n        text-align: right;\n    }\n</style>\n<table border=\"1\" class=\"dataframe\">\n  <thead>\n    <tr style=\"text-align: right;\">\n      <th></th>\n      <th>danceability</th>\n      <th>duration</th>\n      <th>end_of_fade_in</th>\n      <th>loudness</th>\n      <th>tempo</th>\n      <th>hotness</th>\n      <th>song_id</th>\n      <th>track_id</th>\n      <th>album_id</th>\n      <th>year</th>\n      <th>title</th>\n      <th>time_signature</th>\n      <th>Cluster</th>\n    </tr>\n  </thead>\n  <tbody>\n    <tr>\n      <th>35330</th>\n      <td>0.0</td>\n      <td>0.069658</td>\n      <td>0.000119</td>\n      <td>0.8069</td>\n      <td>0.359387</td>\n      <td>0.864249</td>\n      <td>b'SOCWJDB12A58A776AF'</td>\n      <td>b'TRAXLZU12903D05F94'</td>\n      <td>786795</td>\n      <td>0.730337</td>\n      <td>b'Never Gonna Give You Up'</td>\n      <td>0.5</td>\n      <td>46</td>\n    </tr>\n  </tbody>\n</table>\n</div>"
     },
     "metadata": {},
     "execution_count": 119
    }
   ],
   "source": [
    "labeled_df[labeled_df[\"track_id\"] == track_id]"
   ]
  },
  {
   "cell_type": "code",
   "execution_count": 124,
   "metadata": {},
   "outputs": [],
   "source": [
    "def Cosine(data_A, data_B):\n",
    "    sumData = np.dot(data_A, data_B)\n",
    "    denom = np.linalg.norm(data_A) * np.linalg.norm(data_B)\n",
    "    # normalized to [0,1]\n",
    "    return (1 - sumData / denom) / 2"
   ]
  },
  {
   "cell_type": "code",
   "execution_count": null,
   "metadata": {},
   "outputs": [],
   "source": []
  }
 ]
}