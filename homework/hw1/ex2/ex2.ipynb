{
 "cells": [
  {
   "cell_type": "code",
   "execution_count": 51,
   "metadata": {
    "collapsed": true
   },
   "outputs": [],
   "source": [
    "import pandas as pd\n",
    "from sklearn.preprocessing import OneHotEncoder\n",
    "from sklearn.preprocessing import StandardScaler\n",
    "import numpy as np\n",
    "import statsmodels.api as sm\n",
    "\n",
    "import warnings\n",
    "warnings.filterwarnings(\"ignore\")"
   ]
  },
  {
   "cell_type": "code",
   "execution_count": 2,
   "outputs": [],
   "source": [
    "df = pd.read_csv(\"./flight_data/1987.csv\")"
   ],
   "metadata": {
    "collapsed": false
   }
  },
  {
   "cell_type": "code",
   "execution_count": 12,
   "outputs": [
    {
     "name": "stdout",
     "output_type": "stream",
     "text": [
      "2001\n",
      "2002\n"
     ]
    },
    {
     "name": "stderr",
     "output_type": "stream",
     "text": [
      "/var/folders/nw/prlspygx479dwlhvnc1kjj8r0000gp/T/ipykernel_38864/2362377259.py:4: DtypeWarning: Columns (22) have mixed types. Specify dtype option on import or set low_memory=False.\n",
      "  df_temp = pd.read_csv(\"./flight_data/{}.csv\".format(i))\n"
     ]
    }
   ],
   "source": [
    "df_c = pd.DataFrame()\n",
    "for i in range(1987, 2009):\n",
    "    try:\n",
    "        df_temp = pd.read_csv(\"./flight_data/{}.csv\".format(i))\n",
    "    except:\n",
    "        df_temp= pd.read_csv(\"./flight_data/{}.csv\".format(i), encoding = \"ISO-8859-1\", low_memory=False)\n",
    "    df_delay = df_temp[df_temp[\"ArrDelay\"] > 0]\n",
    "    df_max = df_delay.groupby(by=\"UniqueCarrier\")[\"ArrDelay\"].agg(max)\n",
    "    df_max.name = i\n",
    "    df_c = pd.concat([df_c, df_max],axis=1)\n",
    "\n",
    "ex2_b = df_c.max(axis= 1)\n",
    "print(ex2_b)"
   ],
   "metadata": {
    "collapsed": false
   }
  },
  {
   "cell_type": "code",
   "execution_count": 19,
   "outputs": [
    {
     "data": {
      "text/plain": "AA        1525.0\nAS        1139.0\nCO        1178.0\nDL        1189.0\nEA        1179.0\nHP        1323.0\nNW        2598.0\nPA (1)    1438.0\nPI        1381.0\nPS        1033.0\nTW         931.0\nUA        1612.0\nUS        1073.0\nWN         889.0\nML (1)     584.0\nAQ         623.0\nB6        1392.0\nDH        1438.0\nEV        1187.0\nFL        1175.0\nHA        1309.0\nMQ        1707.0\nOO        1435.0\nTZ        1300.0\nXE         939.0\nOH        1380.0\nF9         920.0\nYV         715.0\n9E        1942.0\ndtype: float64"
     },
     "execution_count": 19,
     "metadata": {},
     "output_type": "execute_result"
    }
   ],
   "source": [
    "tmp = df_c.max(axis= 1)\n",
    "tmp"
   ],
   "metadata": {
    "collapsed": false
   }
  },
  {
   "cell_type": "code",
   "execution_count": null,
   "outputs": [],
   "source": [],
   "metadata": {
    "collapsed": false
   }
  },
  {
   "cell_type": "markdown",
   "source": [
    "# PATTERN\n"
   ],
   "metadata": {
    "collapsed": false
   }
  },
  {
   "cell_type": "code",
   "execution_count": 41,
   "outputs": [],
   "source": [
    "df = pd.read_csv(\"./flight_data/2007.csv\")"
   ],
   "metadata": {
    "collapsed": false
   }
  },
  {
   "cell_type": "code",
   "execution_count": 42,
   "outputs": [],
   "source": [
    "df = df[[\"DayOfWeek\", \"DepTime\", \"CRSDepTime\", \"ArrTime\", \"CRSArrTime\", \"UniqueCarrier\", \"DepDelay\"]]\n",
    "df = df.dropna(how='any',axis =0)"
   ],
   "metadata": {
    "collapsed": false
   }
  },
  {
   "cell_type": "code",
   "execution_count": 43,
   "outputs": [
    {
     "name": "stderr",
     "output_type": "stream",
     "text": [
      "/Users/shawn/opt/anaconda3/lib/python3.9/site-packages/pandas/core/arraylike.py:402: RuntimeWarning: divide by zero encountered in log\n",
      "  result = getattr(ufunc, method)(*inputs, **kwargs)\n",
      "/Users/shawn/opt/anaconda3/lib/python3.9/site-packages/pandas/core/arraylike.py:402: RuntimeWarning: invalid value encountered in log\n",
      "  result = getattr(ufunc, method)(*inputs, **kwargs)\n"
     ]
    }
   ],
   "source": [
    "encoder = OneHotEncoder(sparse_output=False)\n",
    "encoder.fit(df[[\"DayOfWeek\"]])\n",
    "encoded_data = encoder.transform(df[[\"DayOfWeek\"]])\n",
    "\n",
    "encoded_df = pd.DataFrame(encoded_data, columns=encoder.get_feature_names_out())\n",
    "\n",
    "transformed_df = pd.concat([df[[\"DepTime\", \"CRSDepTime\", \"ArrTime\", \"CRSArrTime\", \"UniqueCarrier\", \"DepDelay\"]], encoded_df], axis=1)\n",
    "\n",
    "transformed_df[\"Ln_DepDelay\"] = np.log(df[\"DepDelay\"])\n"
   ],
   "metadata": {
    "collapsed": false
   }
  },
  {
   "cell_type": "markdown",
   "source": [
    "### OHE UniqueCarrier"
   ],
   "metadata": {
    "collapsed": false
   }
  },
  {
   "cell_type": "code",
   "execution_count": 47,
   "outputs": [],
   "source": [
    "encoder = OneHotEncoder(sparse_output=False)\n",
    "encoder.fit(df[['UniqueCarrier']])\n",
    "encoded_data = encoder.transform(df[['UniqueCarrier']])\n",
    "encoded_df = pd.DataFrame(encoded_data, columns=encoder.get_feature_names_out())\n",
    "transformed_df = pd.concat([transformed_df, encoded_df], axis=1)"
   ],
   "metadata": {
    "collapsed": false
   }
  },
  {
   "cell_type": "code",
   "execution_count": 48,
   "outputs": [
    {
     "data": {
      "text/plain": "Index(['DepTime', 'CRSDepTime', 'ArrTime', 'CRSArrTime', 'UniqueCarrier',\n       'DepDelay', 'DayOfWeek_1', 'DayOfWeek_2', 'DayOfWeek_3', 'DayOfWeek_4',\n       'DayOfWeek_5', 'DayOfWeek_6', 'DayOfWeek_7', 'Ln_DepDelay',\n       'UniqueCarrier_9E', 'UniqueCarrier_AA', 'UniqueCarrier_AQ',\n       'UniqueCarrier_AS', 'UniqueCarrier_B6', 'UniqueCarrier_CO',\n       'UniqueCarrier_DL', 'UniqueCarrier_EV', 'UniqueCarrier_F9',\n       'UniqueCarrier_FL', 'UniqueCarrier_HA', 'UniqueCarrier_MQ',\n       'UniqueCarrier_NW', 'UniqueCarrier_OH', 'UniqueCarrier_OO',\n       'UniqueCarrier_UA', 'UniqueCarrier_US', 'UniqueCarrier_WN',\n       'UniqueCarrier_XE', 'UniqueCarrier_YV'],\n      dtype='object')"
     },
     "execution_count": 48,
     "metadata": {},
     "output_type": "execute_result"
    }
   ],
   "source": [
    "transformed_df.columns"
   ],
   "metadata": {
    "collapsed": false
   }
  },
  {
   "cell_type": "code",
   "execution_count": 49,
   "outputs": [],
   "source": [
    "features = ['DepTime', 'CRSDepTime', 'ArrTime', 'CRSArrTime',\n",
    "            'DayOfWeek_1', 'DayOfWeek_2', 'DayOfWeek_3', 'DayOfWeek_4',\n",
    "            'DayOfWeek_5', 'DayOfWeek_6', 'DayOfWeek_7',\n",
    "            'UniqueCarrier_9E', 'UniqueCarrier_AA', 'UniqueCarrier_AQ',\n",
    "            'UniqueCarrier_AS', 'UniqueCarrier_B6', 'UniqueCarrier_CO',\n",
    "            'UniqueCarrier_DL', 'UniqueCarrier_EV', 'UniqueCarrier_F9',\n",
    "            'UniqueCarrier_FL', 'UniqueCarrier_HA', 'UniqueCarrier_MQ',\n",
    "            'UniqueCarrier_NW', 'UniqueCarrier_OH', 'UniqueCarrier_OO',\n",
    "            'UniqueCarrier_UA', 'UniqueCarrier_US', 'UniqueCarrier_WN',\n",
    "            'UniqueCarrier_XE', 'UniqueCarrier_YV']\n",
    "\n",
    "data_features = transformed_df[features]\n",
    "scaler = StandardScaler()\n",
    "normalized_features = scaler.fit_transform(data_features)\n",
    "normalized_data = pd.DataFrame(normalized_features, columns=features)\n",
    "normalized_data = pd.concat([normalized_data, transformed_df.drop(features, axis=1)], axis=1)"
   ],
   "metadata": {
    "collapsed": false
   }
  },
  {
   "cell_type": "markdown",
   "source": [
    "### LinearRegression"
   ],
   "metadata": {
    "collapsed": false
   }
  },
  {
   "cell_type": "code",
   "execution_count": 73,
   "outputs": [],
   "source": [
    "normalized_data = normalized_data.dropna(how='any')\n",
    "# normalized_data = normalized_data[normalized_data[\"Ln_DepDelay\"] > 1][normalized_data[\"Ln_DepDelay\"] < 4]\n",
    "test_df = normalized_data\n",
    "X = test_df[features]\n",
    "y = test_df[[\"Ln_DepDelay\"]]"
   ],
   "metadata": {
    "collapsed": false
   }
  },
  {
   "cell_type": "code",
   "execution_count": 74,
   "outputs": [
    {
     "name": "stdout",
     "output_type": "stream",
     "text": [
      "                                 OLS Regression Results                                \n",
      "=======================================================================================\n",
      "Dep. Variable:                      y   R-squared (uncentered):                   0.001\n",
      "Model:                            OLS   Adj. R-squared (uncentered):              0.001\n",
      "Method:                 Least Squares   F-statistic:                              100.5\n",
      "Date:                Wed, 24 May 2023   Prob (F-statistic):                        0.00\n",
      "Time:                        19:25:21   Log-Likelihood:                     -4.9172e+06\n",
      "No. Observations:             2041838   AIC:                                  9.835e+06\n",
      "Df Residuals:                 2041809   BIC:                                  9.835e+06\n",
      "Df Model:                          29                                                  \n",
      "Covariance Type:            nonrobust                                                  \n",
      "==============================================================================\n",
      "                 coef    std err          t      P>|t|      [0.025      0.975]\n",
      "------------------------------------------------------------------------------\n",
      "x1             0.0422      0.007      5.856      0.000       0.028       0.056\n",
      "x2            -0.0252      0.007     -3.538      0.000      -0.039      -0.011\n",
      "x3            -0.0032      0.004     -0.869      0.385      -0.011       0.004\n",
      "x4            -0.0187      0.004     -4.209      0.000      -0.027      -0.010\n",
      "x5             0.0046      0.002      2.889      0.004       0.001       0.008\n",
      "x6          7.305e-05      0.002      0.045      0.964      -0.003       0.003\n",
      "x7             0.0003      0.002      0.200      0.842      -0.003       0.003\n",
      "x8            -0.0088      0.002     -5.441      0.000      -0.012      -0.006\n",
      "x9             0.0048      0.002      3.011      0.003       0.002       0.008\n",
      "x10            0.0019      0.002      1.176      0.240      -0.001       0.005\n",
      "x11           -0.0030      0.002     -1.836      0.066      -0.006       0.000\n",
      "x12           -0.0367      0.002    -19.375      0.000      -0.040      -0.033\n",
      "x13           -0.0126      0.002     -7.218      0.000      -0.016      -0.009\n",
      "x14           -0.0059      0.002     -3.084      0.002      -0.010      -0.002\n",
      "x15            0.0220      0.002     12.197      0.000       0.018       0.025\n",
      "x16            0.0243      0.002     13.552      0.000       0.021       0.028\n",
      "x17            0.0098      0.002      5.495      0.000       0.006       0.013\n",
      "x18           -0.0239      0.002    -13.373      0.000      -0.027      -0.020\n",
      "x19           -0.0100      0.002     -5.518      0.000      -0.014      -0.006\n",
      "x20            0.0160      0.002      8.861      0.000       0.012       0.020\n",
      "x21            0.0272      0.002     15.529      0.000       0.024       0.031\n",
      "x22            0.0112      0.002      6.140      0.000       0.008       0.015\n",
      "x23            0.0391      0.002     22.857      0.000       0.036       0.042\n",
      "x24           -0.0110      0.002     -6.101      0.000      -0.014      -0.007\n",
      "x25           -0.0066      0.002     -3.596      0.000      -0.010      -0.003\n",
      "x26            0.0316      0.002     18.718      0.000       0.028       0.035\n",
      "x27            0.0209      0.002     12.082      0.000       0.017       0.024\n",
      "x28           -0.0005      0.002     -0.287      0.774      -0.004       0.003\n",
      "x29           -0.0253      0.002    -15.524      0.000      -0.029      -0.022\n",
      "x30           -0.0270      0.002    -14.928      0.000      -0.031      -0.023\n",
      "x31           -0.0152      0.002     -8.312      0.000      -0.019      -0.012\n",
      "==============================================================================\n",
      "Omnibus:                   539667.997   Durbin-Watson:                   0.176\n",
      "Prob(Omnibus):                  0.000   Jarque-Bera (JB):            94387.504\n",
      "Skew:                          -0.124   Prob(JB):                         0.00\n",
      "Kurtosis:                       1.976   Cond. No.                     2.03e+15\n",
      "==============================================================================\n",
      "\n",
      "Notes:\n",
      "[1] R² is computed without centering (uncentered) since the model does not contain a constant.\n",
      "[2] Standard Errors assume that the covariance matrix of the errors is correctly specified.\n",
      "[3] The smallest eigenvalue is 1.69e-24. This might indicate that there are\n",
      "strong multicollinearity problems or that the design matrix is singular.\n"
     ]
    }
   ],
   "source": [
    "model = sm.OLS(y.to_numpy(), X.to_numpy())\n",
    "results = model.fit()\n",
    "print(results.summary())"
   ],
   "metadata": {
    "collapsed": false
   }
  },
  {
   "cell_type": "code",
   "execution_count": 58,
   "outputs": [
    {
     "data": {
      "text/plain": "         const   DepTime  CRSDepTime   ArrTime  CRSArrTime  DayOfWeek_1  \\\n0          1.0 -0.223390   -0.224528 -0.278190   -0.319804     2.384976   \n1          1.0  1.206122    1.238487  1.105813    1.123197     2.384976   \n2          1.0  1.806267    1.722573  1.679524    1.673405     2.384976   \n3          1.0 -0.227558   -0.278315 -0.248618   -0.340566     2.384976   \n4          1.0 -1.059008   -1.074367 -1.035252   -1.025732     2.384976   \n...        ...       ...         ...       ...         ...          ...   \n7103415    1.0  0.791438    0.621009  1.482373    1.351585    -0.419291   \n7103416    1.0  0.585138    0.621009  1.320708    1.351585    -0.419291   \n7103418    1.0  0.570552    0.621009  1.283250    1.351585    -0.419291   \n7103421    1.0  0.566384    0.621009  1.330566    1.351585    -0.419291   \n7103422    1.0  0.624731    0.621009  1.440971    1.351585    -0.419291   \n\n         DayOfWeek_2  DayOfWeek_3  DayOfWeek_4  DayOfWeek_5  ...  \\\n0          -0.410772     -0.41294    -0.415207    -0.416322  ...   \n1          -0.410772     -0.41294    -0.415207    -0.416322  ...   \n2          -0.410772     -0.41294    -0.415207    -0.416322  ...   \n3          -0.410772     -0.41294    -0.415207    -0.416322  ...   \n4          -0.410772     -0.41294    -0.415207    -0.416322  ...   \n...              ...          ...          ...          ...  ...   \n7103415    -0.410772     -0.41294    -0.415207    -0.416322  ...   \n7103416    -0.410772     -0.41294    -0.415207    -0.416322  ...   \n7103418    -0.410772     -0.41294    -0.415207    -0.416322  ...   \n7103421    -0.410772     -0.41294    -0.415207    -0.416322  ...   \n7103422    -0.410772     -0.41294    -0.415207    -0.416322  ...   \n\n         UniqueCarrier_HA  UniqueCarrier_MQ  UniqueCarrier_NW  \\\n0               -0.088022         -0.276355         -0.243072   \n1               -0.088022         -0.276355         -0.243072   \n2               -0.088022         -0.276355         -0.243072   \n3               -0.088022         -0.276355         -0.243072   \n4               -0.088022         -0.276355         -0.243072   \n...                   ...               ...               ...   \n7103415         -0.088022         -0.276355         -0.243072   \n7103416         -0.088022         -0.276355         -0.243072   \n7103418         -0.088022         -0.276355         -0.243072   \n7103421         -0.088022         -0.276355         -0.243072   \n7103422         -0.088022         -0.276355         -0.243072   \n\n         UniqueCarrier_OH  UniqueCarrier_OO  UniqueCarrier_UA  \\\n0               -0.178427         -0.295117         -0.264913   \n1               -0.178427         -0.295117         -0.264913   \n2               -0.178427         -0.295117         -0.264913   \n3               -0.178427         -0.295117         -0.264913   \n4               -0.178427         -0.295117         -0.264913   \n...                   ...               ...               ...   \n7103415         -0.178427         -0.295117         -0.264913   \n7103416         -0.178427         -0.295117         -0.264913   \n7103418         -0.178427         -0.295117         -0.264913   \n7103421         -0.178427         -0.295117         -0.264913   \n7103422         -0.178427         -0.295117         -0.264913   \n\n         UniqueCarrier_US  UniqueCarrier_WN  UniqueCarrier_XE  \\\n0               -0.264465          2.299628         -0.248241   \n1               -0.264465          2.299628         -0.248241   \n2               -0.264465          2.299628         -0.248241   \n3               -0.264465          2.299628         -0.248241   \n4               -0.264465          2.299628         -0.248241   \n...                   ...               ...               ...   \n7103415         -0.264465         -0.434853         -0.248241   \n7103416         -0.264465         -0.434853         -0.248241   \n7103418         -0.264465         -0.434853         -0.248241   \n7103421         -0.264465         -0.434853         -0.248241   \n7103422         -0.264465         -0.434853         -0.248241   \n\n         UniqueCarrier_YV  \n0               -0.201026  \n1               -0.201026  \n2               -0.201026  \n3               -0.201026  \n4               -0.201026  \n...                   ...  \n7103415         -0.201026  \n7103416         -0.201026  \n7103418         -0.201026  \n7103421         -0.201026  \n7103422         -0.201026  \n\n[3572481 rows x 32 columns]",
      "text/html": "<div>\n<style scoped>\n    .dataframe tbody tr th:only-of-type {\n        vertical-align: middle;\n    }\n\n    .dataframe tbody tr th {\n        vertical-align: top;\n    }\n\n    .dataframe thead th {\n        text-align: right;\n    }\n</style>\n<table border=\"1\" class=\"dataframe\">\n  <thead>\n    <tr style=\"text-align: right;\">\n      <th></th>\n      <th>const</th>\n      <th>DepTime</th>\n      <th>CRSDepTime</th>\n      <th>ArrTime</th>\n      <th>CRSArrTime</th>\n      <th>DayOfWeek_1</th>\n      <th>DayOfWeek_2</th>\n      <th>DayOfWeek_3</th>\n      <th>DayOfWeek_4</th>\n      <th>DayOfWeek_5</th>\n      <th>...</th>\n      <th>UniqueCarrier_HA</th>\n      <th>UniqueCarrier_MQ</th>\n      <th>UniqueCarrier_NW</th>\n      <th>UniqueCarrier_OH</th>\n      <th>UniqueCarrier_OO</th>\n      <th>UniqueCarrier_UA</th>\n      <th>UniqueCarrier_US</th>\n      <th>UniqueCarrier_WN</th>\n      <th>UniqueCarrier_XE</th>\n      <th>UniqueCarrier_YV</th>\n    </tr>\n  </thead>\n  <tbody>\n    <tr>\n      <th>0</th>\n      <td>1.0</td>\n      <td>-0.223390</td>\n      <td>-0.224528</td>\n      <td>-0.278190</td>\n      <td>-0.319804</td>\n      <td>2.384976</td>\n      <td>-0.410772</td>\n      <td>-0.41294</td>\n      <td>-0.415207</td>\n      <td>-0.416322</td>\n      <td>...</td>\n      <td>-0.088022</td>\n      <td>-0.276355</td>\n      <td>-0.243072</td>\n      <td>-0.178427</td>\n      <td>-0.295117</td>\n      <td>-0.264913</td>\n      <td>-0.264465</td>\n      <td>2.299628</td>\n      <td>-0.248241</td>\n      <td>-0.201026</td>\n    </tr>\n    <tr>\n      <th>1</th>\n      <td>1.0</td>\n      <td>1.206122</td>\n      <td>1.238487</td>\n      <td>1.105813</td>\n      <td>1.123197</td>\n      <td>2.384976</td>\n      <td>-0.410772</td>\n      <td>-0.41294</td>\n      <td>-0.415207</td>\n      <td>-0.416322</td>\n      <td>...</td>\n      <td>-0.088022</td>\n      <td>-0.276355</td>\n      <td>-0.243072</td>\n      <td>-0.178427</td>\n      <td>-0.295117</td>\n      <td>-0.264913</td>\n      <td>-0.264465</td>\n      <td>2.299628</td>\n      <td>-0.248241</td>\n      <td>-0.201026</td>\n    </tr>\n    <tr>\n      <th>2</th>\n      <td>1.0</td>\n      <td>1.806267</td>\n      <td>1.722573</td>\n      <td>1.679524</td>\n      <td>1.673405</td>\n      <td>2.384976</td>\n      <td>-0.410772</td>\n      <td>-0.41294</td>\n      <td>-0.415207</td>\n      <td>-0.416322</td>\n      <td>...</td>\n      <td>-0.088022</td>\n      <td>-0.276355</td>\n      <td>-0.243072</td>\n      <td>-0.178427</td>\n      <td>-0.295117</td>\n      <td>-0.264913</td>\n      <td>-0.264465</td>\n      <td>2.299628</td>\n      <td>-0.248241</td>\n      <td>-0.201026</td>\n    </tr>\n    <tr>\n      <th>3</th>\n      <td>1.0</td>\n      <td>-0.227558</td>\n      <td>-0.278315</td>\n      <td>-0.248618</td>\n      <td>-0.340566</td>\n      <td>2.384976</td>\n      <td>-0.410772</td>\n      <td>-0.41294</td>\n      <td>-0.415207</td>\n      <td>-0.416322</td>\n      <td>...</td>\n      <td>-0.088022</td>\n      <td>-0.276355</td>\n      <td>-0.243072</td>\n      <td>-0.178427</td>\n      <td>-0.295117</td>\n      <td>-0.264913</td>\n      <td>-0.264465</td>\n      <td>2.299628</td>\n      <td>-0.248241</td>\n      <td>-0.201026</td>\n    </tr>\n    <tr>\n      <th>4</th>\n      <td>1.0</td>\n      <td>-1.059008</td>\n      <td>-1.074367</td>\n      <td>-1.035252</td>\n      <td>-1.025732</td>\n      <td>2.384976</td>\n      <td>-0.410772</td>\n      <td>-0.41294</td>\n      <td>-0.415207</td>\n      <td>-0.416322</td>\n      <td>...</td>\n      <td>-0.088022</td>\n      <td>-0.276355</td>\n      <td>-0.243072</td>\n      <td>-0.178427</td>\n      <td>-0.295117</td>\n      <td>-0.264913</td>\n      <td>-0.264465</td>\n      <td>2.299628</td>\n      <td>-0.248241</td>\n      <td>-0.201026</td>\n    </tr>\n    <tr>\n      <th>...</th>\n      <td>...</td>\n      <td>...</td>\n      <td>...</td>\n      <td>...</td>\n      <td>...</td>\n      <td>...</td>\n      <td>...</td>\n      <td>...</td>\n      <td>...</td>\n      <td>...</td>\n      <td>...</td>\n      <td>...</td>\n      <td>...</td>\n      <td>...</td>\n      <td>...</td>\n      <td>...</td>\n      <td>...</td>\n      <td>...</td>\n      <td>...</td>\n      <td>...</td>\n      <td>...</td>\n    </tr>\n    <tr>\n      <th>7103415</th>\n      <td>1.0</td>\n      <td>0.791438</td>\n      <td>0.621009</td>\n      <td>1.482373</td>\n      <td>1.351585</td>\n      <td>-0.419291</td>\n      <td>-0.410772</td>\n      <td>-0.41294</td>\n      <td>-0.415207</td>\n      <td>-0.416322</td>\n      <td>...</td>\n      <td>-0.088022</td>\n      <td>-0.276355</td>\n      <td>-0.243072</td>\n      <td>-0.178427</td>\n      <td>-0.295117</td>\n      <td>-0.264913</td>\n      <td>-0.264465</td>\n      <td>-0.434853</td>\n      <td>-0.248241</td>\n      <td>-0.201026</td>\n    </tr>\n    <tr>\n      <th>7103416</th>\n      <td>1.0</td>\n      <td>0.585138</td>\n      <td>0.621009</td>\n      <td>1.320708</td>\n      <td>1.351585</td>\n      <td>-0.419291</td>\n      <td>-0.410772</td>\n      <td>-0.41294</td>\n      <td>-0.415207</td>\n      <td>-0.416322</td>\n      <td>...</td>\n      <td>-0.088022</td>\n      <td>-0.276355</td>\n      <td>-0.243072</td>\n      <td>-0.178427</td>\n      <td>-0.295117</td>\n      <td>-0.264913</td>\n      <td>-0.264465</td>\n      <td>-0.434853</td>\n      <td>-0.248241</td>\n      <td>-0.201026</td>\n    </tr>\n    <tr>\n      <th>7103418</th>\n      <td>1.0</td>\n      <td>0.570552</td>\n      <td>0.621009</td>\n      <td>1.283250</td>\n      <td>1.351585</td>\n      <td>-0.419291</td>\n      <td>-0.410772</td>\n      <td>-0.41294</td>\n      <td>-0.415207</td>\n      <td>-0.416322</td>\n      <td>...</td>\n      <td>-0.088022</td>\n      <td>-0.276355</td>\n      <td>-0.243072</td>\n      <td>-0.178427</td>\n      <td>-0.295117</td>\n      <td>-0.264913</td>\n      <td>-0.264465</td>\n      <td>-0.434853</td>\n      <td>-0.248241</td>\n      <td>-0.201026</td>\n    </tr>\n    <tr>\n      <th>7103421</th>\n      <td>1.0</td>\n      <td>0.566384</td>\n      <td>0.621009</td>\n      <td>1.330566</td>\n      <td>1.351585</td>\n      <td>-0.419291</td>\n      <td>-0.410772</td>\n      <td>-0.41294</td>\n      <td>-0.415207</td>\n      <td>-0.416322</td>\n      <td>...</td>\n      <td>-0.088022</td>\n      <td>-0.276355</td>\n      <td>-0.243072</td>\n      <td>-0.178427</td>\n      <td>-0.295117</td>\n      <td>-0.264913</td>\n      <td>-0.264465</td>\n      <td>-0.434853</td>\n      <td>-0.248241</td>\n      <td>-0.201026</td>\n    </tr>\n    <tr>\n      <th>7103422</th>\n      <td>1.0</td>\n      <td>0.624731</td>\n      <td>0.621009</td>\n      <td>1.440971</td>\n      <td>1.351585</td>\n      <td>-0.419291</td>\n      <td>-0.410772</td>\n      <td>-0.41294</td>\n      <td>-0.415207</td>\n      <td>-0.416322</td>\n      <td>...</td>\n      <td>-0.088022</td>\n      <td>-0.276355</td>\n      <td>-0.243072</td>\n      <td>-0.178427</td>\n      <td>-0.295117</td>\n      <td>-0.264913</td>\n      <td>-0.264465</td>\n      <td>-0.434853</td>\n      <td>-0.248241</td>\n      <td>-0.201026</td>\n    </tr>\n  </tbody>\n</table>\n<p>3572481 rows × 32 columns</p>\n</div>"
     },
     "execution_count": 58,
     "metadata": {},
     "output_type": "execute_result"
    }
   ],
   "source": [],
   "metadata": {
    "collapsed": false
   }
  },
  {
   "cell_type": "code",
   "execution_count": 65,
   "outputs": [
    {
     "data": {
      "text/plain": "        Ln_DepDelay\ncount  1.000000e+06\nmean           -inf\nstd             NaN\nmin            -inf\n25%    6.931472e-01\n50%    2.302585e+00\n75%    3.401197e+00\nmax    7.424762e+00",
      "text/html": "<div>\n<style scoped>\n    .dataframe tbody tr th:only-of-type {\n        vertical-align: middle;\n    }\n\n    .dataframe tbody tr th {\n        vertical-align: top;\n    }\n\n    .dataframe thead th {\n        text-align: right;\n    }\n</style>\n<table border=\"1\" class=\"dataframe\">\n  <thead>\n    <tr style=\"text-align: right;\">\n      <th></th>\n      <th>Ln_DepDelay</th>\n    </tr>\n  </thead>\n  <tbody>\n    <tr>\n      <th>count</th>\n      <td>1.000000e+06</td>\n    </tr>\n    <tr>\n      <th>mean</th>\n      <td>-inf</td>\n    </tr>\n    <tr>\n      <th>std</th>\n      <td>NaN</td>\n    </tr>\n    <tr>\n      <th>min</th>\n      <td>-inf</td>\n    </tr>\n    <tr>\n      <th>25%</th>\n      <td>6.931472e-01</td>\n    </tr>\n    <tr>\n      <th>50%</th>\n      <td>2.302585e+00</td>\n    </tr>\n    <tr>\n      <th>75%</th>\n      <td>3.401197e+00</td>\n    </tr>\n    <tr>\n      <th>max</th>\n      <td>7.424762e+00</td>\n    </tr>\n  </tbody>\n</table>\n</div>"
     },
     "execution_count": 65,
     "metadata": {},
     "output_type": "execute_result"
    }
   ],
   "source": [
    "y.describe()"
   ],
   "metadata": {
    "collapsed": false
   }
  },
  {
   "cell_type": "code",
   "execution_count": 68,
   "outputs": [
    {
     "data": {
      "text/plain": "4.605170185988092"
     },
     "execution_count": 68,
     "metadata": {},
     "output_type": "execute_result"
    }
   ],
   "source": [
    "np.log(100)"
   ],
   "metadata": {
    "collapsed": false
   }
  },
  {
   "cell_type": "code",
   "execution_count": null,
   "outputs": [],
   "source": [],
   "metadata": {
    "collapsed": false
   }
  }
 ],
 "metadata": {
  "kernelspec": {
   "display_name": "Python 3",
   "language": "python",
   "name": "python3"
  },
  "language_info": {
   "codemirror_mode": {
    "name": "ipython",
    "version": 2
   },
   "file_extension": ".py",
   "mimetype": "text/x-python",
   "name": "python",
   "nbconvert_exporter": "python",
   "pygments_lexer": "ipython2",
   "version": "2.7.6"
  }
 },
 "nbformat": 4,
 "nbformat_minor": 0
}
