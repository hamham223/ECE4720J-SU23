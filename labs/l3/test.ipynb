{
 "metadata": {
  "language_info": {
   "codemirror_mode": {
    "name": "ipython",
    "version": 3
   },
   "file_extension": ".py",
   "mimetype": "text/x-python",
   "name": "python",
   "nbconvert_exporter": "python",
   "pygments_lexer": "ipython3",
   "version": "3.9.7-final"
  },
  "orig_nbformat": 2,
  "kernelspec": {
   "name": "python3",
   "display_name": "Python 3.9.7 64-bit ('base': conda)",
   "metadata": {
    "interpreter": {
     "hash": "f66fdfe0a6ea530587c98273b459fece60d7701aeac836ed1d38a06bdb59e20e"
    }
   }
  }
 },
 "nbformat": 4,
 "nbformat_minor": 2,
 "cells": [
  {
   "cell_type": "code",
   "execution_count": 1,
   "metadata": {},
   "outputs": [],
   "source": [
    "import pandas as pd"
   ]
  },
  {
   "cell_type": "code",
   "execution_count": 3,
   "metadata": {},
   "outputs": [
    {
     "output_type": "stream",
     "name": "stderr",
     "text": [
      "100%|██████████| 5251627/5251627 [00:11<00:00, 454922.68it/s]\n"
     ]
    }
   ],
   "source": [
    "import sqlite3\n",
    "from tqdm import tqdm\n",
    "\n",
    "con = sqlite3.connect(\"./var/imdb.sqlite3\")\n",
    "cur = con.cursor()\n",
    "\n",
    "profession_list = cur.execute(\"SELECT nconst, primaryProfession FROM name\").fetchall()\n",
    "\n",
    "for professions in tqdm(profession_list):\n",
    "    for profession in professions[1].split(','):\n",
    "        data = (professions[0], profession)\n",
    "        cur.execute(\"INSERT INTO name_profession VALUES(?,?)\", data)\n",
    "con.commit()\n",
    "con.close()"
   ]
  },
  {
   "cell_type": "code",
   "execution_count": 1,
   "metadata": {},
   "outputs": [],
   "source": [
    "import sqlite3\n",
    "from tqdm import tqdm\n",
    "\n",
    "con = sqlite3.connect(\"./var/imdb.sqlite3\")\n",
    "cur = con.cursor()\n",
    "\n",
    "profession_list = cur.execute(\n",
    "\"\"\"\n",
    "SELECT * \n",
    "FROM name \n",
    "LIMIT 10;\n",
    "\"\"\"\n",
    ").fetchall()"
   ]
  },
  {
   "cell_type": "code",
   "execution_count": null,
   "metadata": {},
   "outputs": [],
   "source": []
  },
  {
   "cell_type": "code",
   "execution_count": 9,
   "metadata": {},
   "outputs": [
    {
     "output_type": "stream",
     "name": "stderr",
     "text": [
      "100%|██████████| 6390856/6390856 [00:16<00:00, 387585.87it/s]\n"
     ]
    }
   ],
   "source": [
    "import sqlite3\n",
    "from tqdm import tqdm\n",
    "\n",
    "con = sqlite3.connect(\"./var/imdb.sqlite3\")\n",
    "cur = con.cursor()\n",
    "\n",
    "try :\n",
    "    cur.execute(\n",
    "    '''\n",
    "    CREATE TABLE title_genre \n",
    "    (tconst varchar(10) not null, \n",
    "    genre text not null, \n",
    "    foreign key(tconst) references basics(tconst))\n",
    "    '''\n",
    "    )\n",
    "    con.commit()\n",
    "except: pass\n",
    "\n",
    "genre_list = cur.execute(\"SELECT tconst, genres FROM basics\").fetchall()\n",
    "\n",
    "for genres in tqdm(genre_list):\n",
    "    for genre in genres[1].split(','):\n",
    "        data = (genres[0], genre)\n",
    "        cur.execute(\"INSERT INTO title_genre VALUES(?,?)\", data)\n",
    "\n",
    "con.commit()\n",
    "con.close()"
   ]
  },
  {
   "cell_type": "code",
   "execution_count": null,
   "metadata": {},
   "outputs": [],
   "source": [
    "SELECT t1.genre, SUM(t2.numVotes) AS sum_value\n",
    "FROM title_genre AS t1\n",
    "JOIN ratings AS t2 ON t1.tconst = t2.tconst\n",
    "GROUP BY t1.genre\n",
    "ORDER BY sum_value DESC\n",
    "LIMIT 3;"
   ]
  },
  {
   "cell_type": "code",
   "execution_count": 11,
   "metadata": {},
   "outputs": [
    {
     "output_type": "stream",
     "name": "stderr",
     "text": [
      "100%|██████████| 5251627/5251627 [00:18<00:00, 286247.24it/s]\n"
     ]
    }
   ],
   "source": [
    "import sqlite3\n",
    "from tqdm import tqdm\n",
    "\n",
    "con = sqlite3.connect(\"./var/imdb.sqlite3\")\n",
    "cur = con.cursor()\n",
    "\n",
    "cur.execute(\n",
    "'''\n",
    "CREATE TABLE title \n",
    "(nconst varchar(10) not null, \n",
    "primaryName text not null,\n",
    "title text not null, \n",
    "foreign key(nconst) references name(nconst))\n",
    "'''\n",
    ")\n",
    "con.commit()\n",
    "\n",
    "title_list = cur.execute(\"SELECT nconst, primaryName, knownForTitles FROM name\").fetchall()\n",
    "\n",
    "for titles in tqdm(title_list):\n",
    "    for title in titles[2].split(','):\n",
    "        data = (titles[0], titles[1], title)\n",
    "        cur.execute(\"INSERT INTO title VALUES(?,?,?)\", data)\n",
    "con.commit()\n",
    "con.close()"
   ]
  },
  {
   "cell_type": "code",
   "execution_count": null,
   "metadata": {},
   "outputs": [],
   "source": []
  }
 ]
}